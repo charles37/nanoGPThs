{
 "cells": [
  {
   "cell_type": "code",
   "execution_count": null,
   "id": "2f994af0-db33-4d0a-b6a0-73d6e580a220",
   "metadata": {},
   "outputs": [],
   "source": [
    "import System.Process\n",
    "import Control.Monad (void)\n",
    "void $ system \"Wget https://raw.githubusercontent.com/jcjohnson/torch-rnn/master/data/tiny-shakespeare.txt\""
   ]
  },
  {
   "cell_type": "code",
   "execution_count": null,
   "id": "eae10b55-6ab7-42a7-8f6f-393f7058f57d",
   "metadata": {},
   "outputs": [],
   "source": [
    "{-# LANGUAGE OverloadedStrings #-}\n",
    "\n",
    "import Network.HTTP.Client\n",
    "import Network.HTTP.Simple\n",
    "import Network.URI\n",
    "import qualified Data.ByteString.Char8 as B8\n",
    "\n",
    "main :: IO ()\n",
    "main = do\n",
    "    let request = \"https://raw.githubusercontent.com/jcjohnson/torch-rnn/master/data/tiny-shakespeare.txt\"\n",
    "        fileName = Prelude.last . pathSegments . getUri $ request\n",
    "    resp <- httpBS request\n",
    "    B8.putStrLn $ getResponseBody resp"
   ]
  },
  {
   "cell_type": "code",
   "execution_count": null,
   "id": "c6ba7706-5102-4e43-9487-39ce65839b47",
   "metadata": {},
   "outputs": [],
   "source": [
    "{-# LANGUAGE OverloadedStrings #-}\n",
    "\n",
    "import Network.HTTP.Simple           -- package http-conduit\n",
    "import qualified Data.ByteString.Lazy as BL\n",
    "\n",
    "do\n",
    "  -- make the requeset\n",
    "  r <- httpLBS \"https://raw.githubusercontent.com/jcjohnson/torch-rnn/master/data/tiny-shakespeare.txt\"\n",
    "  -- get the contents (as a lazy ByteString)\n",
    "  let contents = getResponseBody r\n",
    "  -- write it to a local file\n",
    "  BL.writeFile \"tiny-shakespeare.txt\" contents\n",
    "  print \"done!\""
   ]
  },
  {
   "cell_type": "code",
   "execution_count": 1,
   "id": "20a8d711-86e8-456d-b774-5cfd47221332",
   "metadata": {},
   "outputs": [],
   "source": [
    "-- read and inspect it\n",
    "text <- readFile \"tiny-shakespeare.txt\""
   ]
  },
  {
   "cell_type": "code",
   "execution_count": 2,
   "id": "9903e153-8850-4fe9-acc2-564c50b05b00",
   "metadata": {},
   "outputs": [
    {
     "data": {
      "text/plain": [
       "1115394"
      ]
     },
     "metadata": {},
     "output_type": "display_data"
    }
   ],
   "source": [
    "print $ length text"
   ]
  },
  {
   "cell_type": "code",
   "execution_count": 3,
   "id": "c285ba92-cd78-4cf6-b703-d7c012429c02",
   "metadata": {},
   "outputs": [
    {
     "data": {
      "text/plain": [
       "First Citizen:\n",
       "Before we proceed any further, hear me speak.\n",
       "\n",
       "All:\n",
       "Speak, speak.\n",
       "\n",
       "First Citizen:\n",
       "You are all resolved rather to die than to famish?\n",
       "\n",
       "All:\n",
       "Resolved. resolved.\n",
       "\n",
       "First Citizen:\n",
       "First, you know Caius Marcius is chief enemy to the people.\n",
       "\n",
       "All:\n",
       "We know't, we know't.\n",
       "\n",
       "First Citizen:\n",
       "Let us kill him, and we'll have corn at our own price.\n",
       "Is't a verdict?\n",
       "\n",
       "All:\n",
       "No more talking on't; let it be done: away, away!\n",
       "\n",
       "Second Citizen:\n",
       "One word, good citizens.\n",
       "\n",
       "First Citizen:\n",
       "We are accounted poor citizens, the patricians good.\n",
       "What authority surfeits on would relieve us: if they\n",
       "would yield us but the superfluity, while it were\n",
       "wholesome, we might guess they relieved us humanely;\n",
       "but they think we are too dear: the leanness that\n",
       "afflicts us, the object of our misery, is as an\n",
       "inventory to particularise their abundance; our\n",
       "sufferance is a gain to them Let us revenge this with\n",
       "our pikes, ere we become rakes: for the gods know I\n",
       "speak this in hunger for bread, not in thirst for revenge."
      ]
     },
     "metadata": {},
     "output_type": "display_data"
    }
   ],
   "source": [
    "-- let's look at the first 1000 characters\n",
    "putStr $ take 1000 text"
   ]
  },
  {
   "cell_type": "code",
   "execution_count": 4,
   "id": "2ac1f6b6-7b70-42bc-92fc-fdfd16bb983b",
   "metadata": {},
   "outputs": [
    {
     "data": {
      "text/plain": [
       "\"\\n !$&',-.3:;?ABCDEFGHIJKLMNOPQRSTUVWXYZabcdefghijklmnopqrstuvwxyz\""
      ]
     },
     "metadata": {},
     "output_type": "display_data"
    },
    {
     "data": {
      "text/plain": [
       "65"
      ]
     },
     "metadata": {},
     "output_type": "display_data"
    }
   ],
   "source": [
    "-- Here are all the unique characters that occur in this text\n",
    "import Data.List (sort)\n",
    "import qualified Data.Set as S\n",
    "chars = (sort . S.toList . S.fromList) text \n",
    "vocabSize = length chars\n",
    "print chars\n",
    "print vocabSize"
   ]
  },
  {
   "cell_type": "code",
   "execution_count": 6,
   "id": "2e0ade44-8902-443a-9577-1b0084ecdc55",
   "metadata": {},
   "outputs": [
    {
     "data": {
      "text/plain": [
       "[46,47,47,1,58,46,43,56,43]"
      ]
     },
     "metadata": {},
     "output_type": "display_data"
    },
    {
     "data": {
      "text/plain": [
       "\"hii there\""
      ]
     },
     "metadata": {},
     "output_type": "display_data"
    }
   ],
   "source": [
    "-- create a mapping from characters to integers\n",
    "import qualified Data.Map as M\n",
    "\n",
    "stoi :: M.Map Char Int\n",
    "stoi = M.fromList $ zip chars [0..]\n",
    "\n",
    "itos :: M.Map Int Char\n",
    "itos = M.fromList $ zip [0..] chars\n",
    "\n",
    "-- encoder: take a string, output a list of integers\n",
    "encode :: String -> [Int]\n",
    "encode = map (stoi M.!)\n",
    "\n",
    "-- decoder: take a list of integers, output a string\n",
    "decode :: [Int] -> String\n",
    "decode = map (itos M.!)\n",
    "\n",
    "print $ encode \"hii there\"\n",
    "print $ (decode . encode) \"hii there\""
   ]
  },
  {
   "cell_type": "code",
   "execution_count": null,
   "id": "60034f2b-ddca-4c62-95a9-a9b9291a037f",
   "metadata": {},
   "outputs": [
    {
     "ename": "",
     "evalue": "",
     "output_type": "error",
     "traceback": [
      "<interactive>:1:1: error: Variable not in scope: ls"
     ]
    }
   ],
   "source": []
  },
  {
   "cell_type": "code",
   "execution_count": null,
   "id": "d984ef9e-9ae9-47cb-bb1c-33f9353a5623",
   "metadata": {},
   "outputs": [],
   "source": []
  },
  {
   "cell_type": "code",
   "execution_count": null,
   "id": "f81b3807-d679-44f8-873e-96d27b85ffdb",
   "metadata": {},
   "outputs": [],
   "source": []
  },
  {
   "cell_type": "code",
   "execution_count": null,
   "id": "32e1c288-fa5c-4096-a4ee-cacb58572d64",
   "metadata": {},
   "outputs": [],
   "source": []
  },
  {
   "cell_type": "code",
   "execution_count": null,
   "id": "4db6e6d5-9afc-4a1d-845c-209f4a015854",
   "metadata": {},
   "outputs": [],
   "source": []
  }
 ],
 "metadata": {
  "kernelspec": {
   "display_name": "haskell-example kernel",
   "language": "haskell",
   "name": "haskell-example"
  },
  "language_info": {
   "codemirror_mode": "ihaskell",
   "file_extension": ".hs",
   "mimetype": "text/x-haskell",
   "name": "haskell",
   "pygments_lexer": "Haskell",
   "version": "9.0.2"
  }
 },
 "nbformat": 4,
 "nbformat_minor": 5
}
